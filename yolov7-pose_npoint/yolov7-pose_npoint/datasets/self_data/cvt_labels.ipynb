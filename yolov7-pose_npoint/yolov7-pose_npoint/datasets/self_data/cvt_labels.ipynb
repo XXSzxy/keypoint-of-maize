{
 "cells": [
  {
   "cell_type": "code",
   "execution_count": 7,
   "metadata": {},
   "outputs": [],
   "source": [
    "'''\n",
    "    the pose data structure\n",
    "    --labels\n",
    "        --train\n",
    "            --xxx.txt\n",
    "        --val\n",
    "            --xxx.txt\n",
    "    the xxx.txt like :\n",
    "        0 0.52760 0.49959 0.46780 0.99959 0.41775 0.17116 2 0.41288 0.42361 2 0.41207 0.70956 2 0 0 0 0 0 0 0 0 0 0.68615 0.10008 2 0.69264 0.39461 2 0.71402 0.71078 2 0 0 0 0 0 0 0 0 0 \n",
    "        0 0.52760 0.49959 0.46780 0.99959 0.41775 0.17116 2 0.41288 0.42361 2 0.41207 0.70956 2 0 0 0 0 0 0 0 0 0 0.68615 0.10008 2 0.69264 0.39461 2 0.71402 0.71078 2 0 0 0 0 0 0 0 0 0\n",
    "    which means:\n",
    "        cls cx cy w h x1 y1 thta1 x2 y2 thta2 x3 y3 thta3 x4 y4 thta4 x5 y5 thta5 x6 y6 thta6 x7 y7 thta7 x8 y8 thta8 x9 y9 thta9 x10 y10 thta10 x11 y11 thta11 x12 y12 thta12 \n",
    "\n",
    "    all columns is nums 41 = 1 + 4 + 12*3\n",
    "\n",
    "    But the coco-pose is 56 = 1 + 4 + 17*3\n",
    "\n",
    "    so we need to convert the coco-pose to our pose\n",
    "    the non x_n y_n thta_n is 0 0 0\n",
    "\n",
    "    the saved dir = new_labels\n",
    "'''\n",
    "\n",
    "import os\n",
    "import sys\n",
    "import numpy as np\n",
    "import cv2\n",
    "import shutil\n",
    "\n",
    "def convert_pose(pose_str ,add_zeros_nums=5):\n",
    "    '''\n",
    "        convert coco-pose to our pose\n",
    "        the origin pose is 41 = 1 + 4 + 12*3\n",
    "        the coco-pose is 56 = 1 + 4 + 17*3\n",
    "        so we add 5*3 = 15 zeros to the origin pose\n",
    "    '''\n",
    "    add_zeros = ' 0'*(3*add_zeros_nums)\n",
    "    return pose_str + add_zeros\n",
    "    \n",
    "def cal_cols_nums(pose_str):\n",
    "    '''\n",
    "        calculate the columns nums of the pose\n",
    "    '''\n",
    "    return len(pose_str.split(' '))"
   ]
  },
  {
   "cell_type": "code",
   "execution_count": 10,
   "metadata": {},
   "outputs": [
    {
     "data": {
      "text/plain": [
       "56"
      ]
     },
     "execution_count": 10,
     "metadata": {},
     "output_type": "execute_result"
    }
   ],
   "source": [
    "ori = '0 0.50189 0.52410 0.45887 0.95221 0.40152 0.16544 2 0.39421 0.41299 2 0.38582 0.68913 2 0 0 0 0 0 0 0 0 0 0.64205 0.16340 2 0.66423 0.40441 2 0.69481 0.71814 2 0 0 0 0 0 0 0 0 0 0 0 0 0 0 0 0 0 0 0 0 0 0 0 0'\n",
    "cal_cols_nums(ori)"
   ]
  },
  {
   "cell_type": "code",
   "execution_count": 9,
   "metadata": {},
   "outputs": [],
   "source": [
    "save_dir = 'new_labels'\n",
    "start_dir = 'labels'\n",
    "\n",
    "if not os.path.exists(save_dir):\n",
    "    os.makedirs(save_dir)\n",
    "\n",
    "train_fold = 'train'\n",
    "val_fold = 'val'\n",
    "\n",
    "train_dir = os.path.join(start_dir, train_fold)\n",
    "val_dir = os.path.join(start_dir, val_fold)\n",
    "\n",
    "train_save_dir = os.path.join(save_dir, train_fold)\n",
    "val_save_dir = os.path.join(save_dir, val_fold)\n",
    "\n",
    "if not os.path.exists(train_save_dir):\n",
    "    os.makedirs(train_save_dir)\n",
    "if not os.path.exists(val_save_dir):\n",
    "    os.makedirs(val_save_dir)\n",
    "\n",
    "for train_txt_name in os.listdir(train_dir):\n",
    "    train_txt_path = os.path.join(train_dir, train_txt_name)\n",
    "    train_save_txt_path = os.path.join(train_save_dir, train_txt_name)\n",
    "    with open(train_txt_path, 'r') as f:\n",
    "        train_lines = f.readlines()\n",
    "    with open(train_save_txt_path, 'w') as f:\n",
    "        for line in train_lines:\n",
    "            pose_str = line.strip()\n",
    "            pose_str = convert_pose(pose_str)\n",
    "            f.write(pose_str+'\\n')\n",
    "\n",
    "for val_txt_name in os.listdir(val_dir):\n",
    "    val_txt_path = os.path.join(val_dir, val_txt_name)\n",
    "    val_save_txt_path = os.path.join(val_save_dir, val_txt_name)\n",
    "    with open(val_txt_path, 'r') as f:\n",
    "        val_lines = f.readlines()\n",
    "    with open(val_save_txt_path, 'w') as f:\n",
    "        for line in val_lines:\n",
    "            pose_str = line.strip()\n",
    "            pose_str = convert_pose(pose_str)\n",
    "            f.write(pose_str+'\\n')"
   ]
  },
  {
   "cell_type": "code",
   "execution_count": null,
   "metadata": {},
   "outputs": [],
   "source": []
  }
 ],
 "metadata": {
  "kernelspec": {
   "display_name": "pdf",
   "language": "python",
   "name": "python3"
  },
  "language_info": {
   "codemirror_mode": {
    "name": "ipython",
    "version": 3
   },
   "file_extension": ".py",
   "mimetype": "text/x-python",
   "name": "python",
   "nbconvert_exporter": "python",
   "pygments_lexer": "ipython3",
   "version": "3.9.17"
  }
 },
 "nbformat": 4,
 "nbformat_minor": 2
}
